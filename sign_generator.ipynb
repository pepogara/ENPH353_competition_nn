{
  "nbformat": 4,
  "nbformat_minor": 0,
  "metadata": {
    "colab": {
      "provenance": [],
      "gpuType": "T4",
      "include_colab_link": true
    },
    "kernelspec": {
      "name": "python3",
      "display_name": "Python 3"
    },
    "accelerator": "GPU"
  },
  "cells": [
    {
      "cell_type": "markdown",
      "metadata": {
        "id": "view-in-github",
        "colab_type": "text"
      },
      "source": [
        "<a href=\"https://colab.research.google.com/github/pepogara/ENPH353_competition_nn/blob/main/sign_generator.ipynb\" target=\"_parent\"><img src=\"https://colab.research.google.com/assets/colab-badge.svg\" alt=\"Open In Colab\"/></a>"
      ]
    },
    {
      "cell_type": "code",
      "metadata": {
        "id": "i6RTCDKv1uUN"
      },
      "source": [
        "import cv2\n",
        "import csv\n",
        "import numpy as np\n",
        "import os\n",
        "import random\n",
        "import string\n",
        "\n",
        "from random import randint\n",
        "from PIL import Image, ImageFont, ImageDraw"
      ],
      "execution_count": null,
      "outputs": []
    },
    {
      "cell_type": "code",
      "metadata": {
        "id": "ENidRuKm14S_"
      },
      "source": [
        "# Run this command only once:\n",
        "\n",
        "# makes the output folder /content/pictures/\n",
        "!mkdir pictures"
      ],
      "execution_count": null,
      "outputs": []
    },
    {
      "cell_type": "code",
      "source": [
        "!mkdir treatedpics"
      ],
      "metadata": {
        "id": "ar7gW0uIk7pQ"
      },
      "execution_count": null,
      "outputs": []
    },
    {
      "cell_type": "code",
      "source": [
        "!rm -r pictures"
      ],
      "metadata": {
        "id": "OzIhP6IwtexM"
      },
      "execution_count": null,
      "outputs": []
    },
    {
      "cell_type": "code",
      "metadata": {
        "id": "TvR3Yd_0HCOA",
        "colab": {
          "base_uri": "https://localhost:8080/"
        },
        "outputId": "1c47694b-feec-4fcc-da90-39c9145bee9f"
      },
      "source": [
        "# Run this command only once\n",
        "\n",
        "# Downloads the license plate template to /content/blank_plate.png\n",
        "!gdown --id 1_lMHvk0TgjZAHgtoPNzdCJeL4dH04v6j\n",
        "\n",
        "!gdown --id 17BFRDMAQ_CqBqPH0FOZZHONwQoqcxcwy"
      ],
      "execution_count": null,
      "outputs": [
        {
          "output_type": "stream",
          "name": "stdout",
          "text": [
            "/usr/local/lib/python3.10/dist-packages/gdown/cli.py:121: FutureWarning: Option `--id` was deprecated in version 4.3.1 and will be removed in 5.0. You don't need to pass it anymore to use a file ID.\n",
            "  warnings.warn(\n",
            "Downloading...\n",
            "From: https://drive.google.com/uc?id=1_lMHvk0TgjZAHgtoPNzdCJeL4dH04v6j\n",
            "To: /content/clue_banner.png\n",
            "100% 35.9k/35.9k [00:00<00:00, 101MB/s]\n",
            "/usr/local/lib/python3.10/dist-packages/gdown/cli.py:121: FutureWarning: Option `--id` was deprecated in version 4.3.1 and will be removed in 5.0. You don't need to pass it anymore to use a file ID.\n",
            "  warnings.warn(\n",
            "Downloading...\n",
            "From: https://drive.google.com/uc?id=17BFRDMAQ_CqBqPH0FOZZHONwQoqcxcwy\n",
            "To: /content/UbuntuMono-R.ttf\n",
            "100% 206k/206k [00:00<00:00, 58.5MB/s]\n"
          ]
        }
      ]
    },
    {
      "cell_type": "code",
      "metadata": {
        "colab": {
          "base_uri": "https://localhost:8080/"
        },
        "id": "twDd8RNJtmAD",
        "outputId": "781ab878-ea10-4088-b8b0-f4a2dc5309c1"
      },
      "source": [
        "from google.colab import drive\n",
        "drive.mount('/content/drive')"
      ],
      "execution_count": null,
      "outputs": [
        {
          "output_type": "stream",
          "name": "stdout",
          "text": [
            "Mounted at /content/drive\n"
          ]
        }
      ]
    },
    {
      "cell_type": "markdown",
      "source": [
        "## sign plate generator"
      ],
      "metadata": {
        "id": "qKhaWY7nc_-4"
      }
    },
    {
      "cell_type": "code",
      "metadata": {
        "id": "4kh3ZKFb1U1F"
      },
      "source": [
        "path = \"/content/\"\n",
        "\n",
        "entries = {'SIZE': [\"TWO\", \"314\", \"DOZEN\", \"RAYO10\", \"COUNTLESS\", \"LEGIONS\",\n",
        "                    \"TRIPLETS\", \"QUINTUPLETS\", \"SINGLE\"],\n",
        "           'VICTIM': [\"PARROTS\", \"ROBOTS\", \"BACTERIA\", \"JEDIS\", \"ALIENS\",\n",
        "                      \"CITIZENS\", \"PHYSICISTS\", \"FRODO\", \"DINOSAURS\", \"BUNNIES\",\n",
        "                      \"BED BUGS\", \"ANTS\", \"QUOKKAS\"],\n",
        "           'CRIME': [\"STEAL\", \"TRESPASS\", \"LIE TO\", \"DESTROY\", \"PUNCH\", \"BITE\",\n",
        "                     \"TRANSMOGRIFY\", \"TELEPORT\", \"ACCELERATE\", \"IRRADIATE\",\n",
        "                     \"CURSE\", \"HEADBUT\", \"DEFRAUD\", \"DECELERATE\", \"TICKLE\"],\n",
        "           'TIME': [\"NOON\", \"MIDNIGHT\", \"DAWN\", \"DUSK\", \"JURASIC\", \"TWILIGHT\",\n",
        "                    \"D DAY\", \"Q DAY\", \"2023\", \"WINTER\", \"SUMMER\", \"SPRING\",\n",
        "                    \"AUTUMN\", \"EONS\"],\n",
        "           'PLACE': [\"HOSPITAL\", \"MALL\", \"FOREST\", \"MOON\", \"CLASS\", \"BEACH\",\n",
        "                     \"JUNGLE\", \"BASEMENT\", \"THE HOOD\", \"SEWERS\", \"CAVE\",\n",
        "                     \"BENU\", \"MARS\", \"UNDERGROUND\"],\n",
        "           'MOTIVE': [\"GLUTTONY\", \"CURIOSITY\", \"IGNORANCE\", \"FEAR\", \"PRIDE\",\n",
        "                      \"LOVE\", \"REVENGE\", \"PASSION\", \"BOREDOM\", \"THRILL\",\n",
        "                      \"GREED\", \"FAME\", \"ACCIDENT\", \"HATE\", \"SELF DEFENSE\"],\n",
        "           'WEAPON': [\"STICK\", \"ROCKET\", \"ANTIMATTER\", \"NEUTRINOS\", \"SHURIKEN\",\n",
        "                      \"PENCIL\", \"PLASMA\", \"WATER\", \"FIRE\", \"POTATO GUN\",\n",
        "                      \"ROPE\", \"ELECTRON\", \"HIGH VOLTAGE\", \"POLONIUM\"],\n",
        "           'BANDIT': [\"EINSTEIN\", \"PIKACHU\", \"SHREK\", \"LUIGI\", \"BARBIE\",\n",
        "                      \"BATMAN\", \"CAESAR\", \"SAURON\", \"THANOS\", \"GOKU\",\n",
        "                      \"CAO CAO\", \"THE DEVIL\", \"GODZILA\", \"TEMUJIN\",\n",
        "                      \"HANNIBAL\"]\n",
        "           }\n",
        "\n",
        "banner_canvas = cv2.imread(path+'clue_banner.png')\n",
        "PLATE_HEIGHT = 600\n",
        "PLATE_WIDTH = banner_canvas.shape[1]\n",
        "IMG_DEPTH = 3\n",
        "\n",
        "for key in entries:\n",
        "    for entry in entries[key]:  # Iterate through each entry under the key\n",
        "        for j in range(5):  # Create five copies for each entry\n",
        "            random_value = entry\n",
        "\n",
        "            if len(random_value) < 11:\n",
        "                random_value = random.choice(string.ascii_uppercase) + \" \" + random_value\n",
        "\n",
        "            blank_plate_pil = Image.fromarray(banner_canvas)\n",
        "            draw = ImageDraw.Draw(blank_plate_pil)\n",
        "            font_size = 90\n",
        "            monospace = ImageFont.truetype(path + \"UbuntuMono-R.ttf\", font_size)\n",
        "            font_color = (255, 0, 0)\n",
        "            draw.text((250, 30), key, font_color, font=monospace)\n",
        "            draw.text((30, 250), random_value, font_color, font=monospace)\n",
        "            populated_banner = np.array(blank_plate_pil)\n",
        "\n",
        "            # Naming the file based on random_value\n",
        "            filename = ''.join(e if e.isalnum() else '-' if e.isspace() else '' for e in random_chars)\n",
        "            cv2.imwrite(\n",
        "                os.path.join(path + \"pictures/\", f\"{j}_{filename}_{key}.png\"),\n",
        "                populated_banner,\n",
        "            )"
      ],
      "execution_count": null,
      "outputs": []
    },
    {
      "cell_type": "markdown",
      "source": [
        "## sign plate generator with random"
      ],
      "metadata": {
        "id": "iiBMQdvrr5wj"
      }
    },
    {
      "cell_type": "code",
      "source": [
        "path = \"/content/\"\n",
        "\n",
        "entries = {'SIZE': [\"TWO\", \"314\", \"DOZEN\", \"RAYO10\", \"COUNTLESS\", \"LEGIONS\",\n",
        "                    \"TRIPLETS\", \"QUINTUPLETS\", \"SINGLE\"],\n",
        "           'VICTIM': [\"PARROTS\", \"ROBOTS\", \"BACTERIA\", \"JEDIS\", \"ALIENS\",\n",
        "                      \"CITIZENS\", \"PHYSICISTS\", \"FRODO\", \"DINOSAURS\", \"BUNNIES\",\n",
        "                      \"BED BUGS\", \"ANTS\", \"QUOKKAS\"],\n",
        "           'CRIME': [\"STEAL\", \"TRESPASS\", \"LIE TO\", \"DESTROY\", \"PUNCH\", \"BITE\",\n",
        "                     \"TRANSMOGRIFY\", \"TELEPORT\", \"ACCELERATE\", \"IRRADIATE\",\n",
        "                     \"CURSE\", \"HEADBUT\", \"DEFRAUD\", \"DECELERATE\", \"TICKLE\"],\n",
        "           'TIME': [\"NOON\", \"MIDNIGHT\", \"DAWN\", \"DUSK\", \"JURASIC\", \"TWILIGHT\",\n",
        "                    \"D DAY\", \"Q DAY\", \"2023\", \"WINTER\", \"SUMMER\", \"SPRING\",\n",
        "                    \"AUTUMN\", \"EONS\"],\n",
        "           'PLACE': [\"HOSPITAL\", \"MALL\", \"FOREST\", \"MOON\", \"CLASS\", \"BEACH\",\n",
        "                     \"JUNGLE\", \"BASEMENT\", \"THE HOOD\", \"SEWERS\", \"CAVE\",\n",
        "                     \"BENU\", \"MARS\", \"UNDERGROUND\"],\n",
        "           'MOTIVE': [\"GLUTTONY\", \"CURIOSITY\", \"IGNORANCE\", \"FEAR\", \"PRIDE\",\n",
        "                      \"LOVE\", \"REVENGE\", \"PASSION\", \"BOREDOM\", \"THRILL\",\n",
        "                      \"GREED\", \"FAME\", \"ACCIDENT\", \"HATE\", \"SELF DEFENSE\"],\n",
        "           'WEAPON': [\"STICK\", \"ROCKET\", \"ANTIMATTER\", \"NEUTRINOS\", \"SHURIKEN\",\n",
        "                      \"PENCIL\", \"PLASMA\", \"WATER\", \"FIRE\", \"POTATO GUN\",\n",
        "                      \"ROPE\", \"ELECTRON\", \"HIGH VOLTAGE\", \"POLONIUM\"],\n",
        "           'BANDIT': [\"EINSTEIN\", \"PIKACHU\", \"SHREK\", \"LUIGI\", \"BARBIE\",\n",
        "                      \"BATMAN\", \"CAESAR\", \"SAURON\", \"THANOS\", \"GOKU\",\n",
        "                      \"CAO CAO\", \"THE DEVIL\", \"GODZILA\", \"TEMUJIN\",\n",
        "                      \"HANNIBAL\"]\n",
        "           }\n",
        "\n",
        "banner_canvas = cv2.imread(path+'clue_banner.png')\n",
        "PLATE_HEIGHT = 600\n",
        "PLATE_WIDTH = banner_canvas.shape[1]\n",
        "IMG_DEPTH = 3\n",
        "\n",
        "for key in entries:\n",
        "    for _ in range(150):  # Generate 100 images for each key\n",
        "        # Generate random characters (length between 0 and 12)\n",
        "        random_chars = ''.join(random.choices(string.ascii_uppercase + string.digits + ' ', k=random.randint(0, 11)))\n",
        "\n",
        "        if len(random_chars) < 11:\n",
        "                random_chars = random.choice(string.ascii_uppercase) + \" \" + random_chars\n",
        "\n",
        "        blank_plate_pil = Image.fromarray(banner_canvas)\n",
        "        draw = ImageDraw.Draw(blank_plate_pil)\n",
        "        font_size = 90\n",
        "        monospace = ImageFont.truetype(path + \"UbuntuMono-R.ttf\", font_size)\n",
        "        font_color = (255, 0, 0)\n",
        "        draw.text((250, 30), key, font_color, font=monospace)\n",
        "        draw.text((30, 250), random_chars, font_color, font=monospace)\n",
        "        populated_banner = np.array(blank_plate_pil)\n",
        "\n",
        "        firstnum = random.randint(0, 4)\n",
        "\n",
        "        # Naming the file based on random characters\n",
        "        filename = ''.join(e if e.isalnum() else '-' if e.isspace() else '' for e in random_chars)\n",
        "        cv2.imwrite(\n",
        "            os.path.join(path + \"pictures/\", f\"{firstnum}_{filename}_{key}.png\"),\n",
        "            populated_banner,\n",
        "        )"
      ],
      "metadata": {
        "id": "Fgc0AMxPr9jd"
      },
      "execution_count": null,
      "outputs": []
    },
    {
      "cell_type": "markdown",
      "source": [
        "## sign plate blur and data creation"
      ],
      "metadata": {
        "id": "QKZSbgm7jER4"
      }
    },
    {
      "cell_type": "code",
      "source": [
        "path = \"/content/pictures/\"\n",
        "treatedpath = \"/content/treatedpics/\"\n",
        "\n",
        "###\n",
        "# FIX THE NOISE TO CREATE WHITE NOISE LIKE IN THE ACTUAL COMP.\n",
        "###\n",
        "\n",
        "\n",
        "for i in range(5):  # Iterate through each number (0-4)\n",
        "    group_images = [filename for filename in os.listdir(path) if filename.startswith(f\"{i}_\")]\n",
        "\n",
        "    for filename in group_images:\n",
        "        img = cv2.imread(os.path.join(path, filename))\n",
        "        filename_no_extension = os.path.splitext(filename)[0]  # Remove '.png' extension\n",
        "\n",
        "        if i == 0 or i == 1 or i == 2:\n",
        "            # Different blurs\n",
        "            blurred_img1 = cv2.GaussianBlur(img, (15, 15), 0)\n",
        "            cv2.imwrite(os.path.join(treatedpath, f\"{filename_no_extension}_blurred1.png\"), blurred_img1)\n",
        "\n",
        "            blurred_img2 = cv2.GaussianBlur(img, (25, 25), 0)\n",
        "            cv2.imwrite(os.path.join(treatedpath, f\"{filename_no_extension}_blurred2.png\"), blurred_img2)\n",
        "\n",
        "            blurred_img3 = cv2.GaussianBlur(img, (35, 35), 0)\n",
        "            cv2.imwrite(os.path.join(treatedpath, f\"{filename_no_extension}_blurred3.png\"), blurred_img3)\n",
        "\n",
        "            # Apply Gaussian blur and then bilateral blur\n",
        "            gaussian_blur = cv2.GaussianBlur(img, (15, 15), 0)\n",
        "            bilateral_gaussian_blur = cv2.bilateralFilter(gaussian_blur, 15, 75, 75)\n",
        "            cv2.imwrite(os.path.join(treatedpath, f\"{filename_no_extension}_bilateral_gaussian_blur.png\"), bilateral_gaussian_blur)\n",
        "\n",
        "            # Different bilateral blurs\n",
        "            bilateral_blur1 = cv2.bilateralFilter(img, 15, 75, 75)\n",
        "            cv2.imwrite(os.path.join(treatedpath, f\"{filename_no_extension}_bilateral_blur1.png\"), bilateral_blur1)\n",
        "\n",
        "            bilateral_blur2 = cv2.bilateralFilter(img, 25, 100, 100)\n",
        "            cv2.imwrite(os.path.join(treatedpath, f\"{filename_no_extension}_bilateral_blur2.png\"), bilateral_blur2)\n",
        "\n",
        "\n",
        "        elif i == 3 or i == 4:\n",
        "            # Different darkness and blur\n",
        "            darker_img = cv2.addWeighted(img, 0.6, img, 0, 0)\n",
        "            blurred_darker1 = cv2.GaussianBlur(darker_img, (15, 15), 0)\n",
        "            cv2.imwrite(os.path.join(treatedpath, f\"{filename_no_extension}_darker_blurred1.png\"), blurred_darker1)\n",
        "\n",
        "            darker_img2 = cv2.addWeighted(img, 0.4, img, 0, 0)\n",
        "            blurred_darker2 = cv2.GaussianBlur(darker_img2, (25, 25), 0)\n",
        "            cv2.imwrite(os.path.join(treatedpath, f\"{filename_no_extension}_darker_blurred2.png\"), blurred_darker2)\n",
        "\n",
        "            # Add salt and pepper noise\n",
        "            noise_img = img.copy()\n",
        "            # Salt mode\n",
        "            num_salt = np.ceil(0.02 * img.size * 0.5)\n",
        "            coords = [np.random.randint(0, i - 1, int(num_salt)) for i in img.shape]\n",
        "            noise_img[coords] = 255\n",
        "\n",
        "            # Pepper mode\n",
        "            num_pepper = np.ceil(0.02 * img.size * 0.5)\n",
        "            coords = [np.random.randint(0, i - 1, int(num_pepper)) for i in img.shape]\n",
        "            noise_img[coords] = 0\n",
        "            cv2.imwrite(os.path.join(treatedpath, f\"{filename_no_extension}_noise.png\"), noise_img)\n"
      ],
      "metadata": {
        "id": "OqqyuRTVjDEe",
        "colab": {
          "base_uri": "https://localhost:8080/",
          "height": 247
        },
        "outputId": "c8061345-b0f0-4ef6-ca19-a5c60ab555ad"
      },
      "execution_count": null,
      "outputs": [
        {
          "output_type": "error",
          "ename": "IndexError",
          "evalue": "ignored",
          "traceback": [
            "\u001b[0;31m---------------------------------------------------------------------------\u001b[0m",
            "\u001b[0;31mIndexError\u001b[0m                                Traceback (most recent call last)",
            "\u001b[0;32m<ipython-input-8-3718e54c8a59>\u001b[0m in \u001b[0;36m<cell line: 9>\u001b[0;34m()\u001b[0m\n\u001b[1;32m     53\u001b[0m             \u001b[0mnum_salt\u001b[0m \u001b[0;34m=\u001b[0m \u001b[0mnp\u001b[0m\u001b[0;34m.\u001b[0m\u001b[0mceil\u001b[0m\u001b[0;34m(\u001b[0m\u001b[0;36m0.02\u001b[0m \u001b[0;34m*\u001b[0m \u001b[0mimg\u001b[0m\u001b[0;34m.\u001b[0m\u001b[0msize\u001b[0m \u001b[0;34m*\u001b[0m \u001b[0;36m0.5\u001b[0m\u001b[0;34m)\u001b[0m\u001b[0;34m\u001b[0m\u001b[0;34m\u001b[0m\u001b[0m\n\u001b[1;32m     54\u001b[0m             \u001b[0mcoords\u001b[0m \u001b[0;34m=\u001b[0m \u001b[0;34m[\u001b[0m\u001b[0mnp\u001b[0m\u001b[0;34m.\u001b[0m\u001b[0mrandom\u001b[0m\u001b[0;34m.\u001b[0m\u001b[0mrandint\u001b[0m\u001b[0;34m(\u001b[0m\u001b[0;36m0\u001b[0m\u001b[0;34m,\u001b[0m \u001b[0mi\u001b[0m \u001b[0;34m-\u001b[0m \u001b[0;36m1\u001b[0m\u001b[0;34m,\u001b[0m \u001b[0mint\u001b[0m\u001b[0;34m(\u001b[0m\u001b[0mnum_salt\u001b[0m\u001b[0;34m)\u001b[0m\u001b[0;34m)\u001b[0m \u001b[0;32mfor\u001b[0m \u001b[0mi\u001b[0m \u001b[0;32min\u001b[0m \u001b[0mimg\u001b[0m\u001b[0;34m.\u001b[0m\u001b[0mshape\u001b[0m\u001b[0;34m]\u001b[0m\u001b[0;34m\u001b[0m\u001b[0;34m\u001b[0m\u001b[0m\n\u001b[0;32m---> 55\u001b[0;31m             \u001b[0mnoise_img\u001b[0m\u001b[0;34m[\u001b[0m\u001b[0mcoords\u001b[0m\u001b[0;34m]\u001b[0m \u001b[0;34m=\u001b[0m \u001b[0;36m255\u001b[0m\u001b[0;34m\u001b[0m\u001b[0;34m\u001b[0m\u001b[0m\n\u001b[0m\u001b[1;32m     56\u001b[0m \u001b[0;34m\u001b[0m\u001b[0m\n\u001b[1;32m     57\u001b[0m             \u001b[0;31m# Pepper mode\u001b[0m\u001b[0;34m\u001b[0m\u001b[0;34m\u001b[0m\u001b[0m\n",
            "\u001b[0;31mIndexError\u001b[0m: index 443 is out of bounds for axis 0 with size 400"
          ]
        }
      ]
    },
    {
      "cell_type": "markdown",
      "source": [],
      "metadata": {
        "id": "O8Vxz7ewVwH8"
      }
    },
    {
      "cell_type": "code",
      "source": [
        "treatedpath1 = \"/content/treatedpics/\"\n",
        "\n",
        "group_images = [filename for filename in os.listdir(treatedpath1)]\n",
        "\n",
        "print(\"num of treated images: \" + str(len(group_images)))"
      ],
      "metadata": {
        "colab": {
          "base_uri": "https://localhost:8080/"
        },
        "id": "8V0x1kConY06",
        "outputId": "ff7a687d-2765-43a0-9349-d50cd1b75558"
      },
      "execution_count": null,
      "outputs": [
        {
          "output_type": "stream",
          "name": "stdout",
          "text": [
            "num of treated images: 2173\n"
          ]
        }
      ]
    }
  ]
}