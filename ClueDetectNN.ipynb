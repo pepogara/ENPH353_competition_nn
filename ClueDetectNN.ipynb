{
  "nbformat": 4,
  "nbformat_minor": 0,
  "metadata": {
    "colab": {
      "provenance": [],
      "gpuType": "T4",
      "toc_visible": true,
      "authorship_tag": "ABX9TyNeuUkn/c1qmGrtj8SIxAD1",
      "include_colab_link": true
    },
    "kernelspec": {
      "name": "python3",
      "display_name": "Python 3"
    },
    "language_info": {
      "name": "python"
    },
    "widgets": {
      "application/vnd.jupyter.widget-state+json": {
        "19df96bf6dc34cf39224d69ed7ede00a": {
          "model_module": "@jupyter-widgets/controls",
          "model_name": "VBoxModel",
          "model_module_version": "1.5.0",
          "state": {
            "_dom_classes": [
              "widget-interact"
            ],
            "_model_module": "@jupyter-widgets/controls",
            "_model_module_version": "1.5.0",
            "_model_name": "VBoxModel",
            "_view_count": null,
            "_view_module": "@jupyter-widgets/controls",
            "_view_module_version": "1.5.0",
            "_view_name": "VBoxView",
            "box_style": "",
            "children": [
              "IPY_MODEL_bb6d7650d5f54473b065edf7ca09cb00",
              "IPY_MODEL_1a3a948c19c7468fb58dcc8eae99f78d"
            ],
            "layout": "IPY_MODEL_527d506204964fe988dc089d1c2e35fc"
          }
        },
        "bb6d7650d5f54473b065edf7ca09cb00": {
          "model_module": "@jupyter-widgets/controls",
          "model_name": "IntSliderModel",
          "model_module_version": "1.5.0",
          "state": {
            "_dom_classes": [],
            "_model_module": "@jupyter-widgets/controls",
            "_model_module_version": "1.5.0",
            "_model_name": "IntSliderModel",
            "_view_count": null,
            "_view_module": "@jupyter-widgets/controls",
            "_view_module_version": "1.5.0",
            "_view_name": "IntSliderView",
            "continuous_update": true,
            "description": "index",
            "description_tooltip": null,
            "disabled": false,
            "layout": "IPY_MODEL_261645fa39c1497293dc803e1387ba1b",
            "max": 12536,
            "min": 0,
            "orientation": "horizontal",
            "readout": true,
            "readout_format": "d",
            "step": 1,
            "style": "IPY_MODEL_f451a73b16a4445a9cd8e9d08e24023e",
            "value": 9483
          }
        },
        "1a3a948c19c7468fb58dcc8eae99f78d": {
          "model_module": "@jupyter-widgets/output",
          "model_name": "OutputModel",
          "model_module_version": "1.0.0",
          "state": {
            "_dom_classes": [],
            "_model_module": "@jupyter-widgets/output",
            "_model_module_version": "1.0.0",
            "_model_name": "OutputModel",
            "_view_count": null,
            "_view_module": "@jupyter-widgets/output",
            "_view_module_version": "1.0.0",
            "_view_name": "OutputView",
            "layout": "IPY_MODEL_ac2987035de342c1a4d42b37833c3131",
            "msg_id": "",
            "outputs": [
              {
                "output_type": "stream",
                "name": "stdout",
                "text": [
                  "\r1/1 [==============================] - ETA: 0s"
                ]
              },
              {
                "output_type": "stream",
                "name": "stdout",
                "text": [
                  "\b\b\b\b\b\b\b\b\b\b\b\b\b\b\b\b\b\b\b\b\b\b\b\b\b\b\b\b\b\b\b\b\b\b\b\b\b\b\b\b\b\b\b\b\b\b\r1/1 [==============================] - 0s 17ms/step\n"
                ]
              },
              {
                "output_type": "display_data",
                "data": {
                  "text/plain": "<Figure size 640x480 with 1 Axes>",
                  "image/png": "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\n"
                },
                "metadata": {}
              }
            ]
          }
        },
        "527d506204964fe988dc089d1c2e35fc": {
          "model_module": "@jupyter-widgets/base",
          "model_name": "LayoutModel",
          "model_module_version": "1.2.0",
          "state": {
            "_model_module": "@jupyter-widgets/base",
            "_model_module_version": "1.2.0",
            "_model_name": "LayoutModel",
            "_view_count": null,
            "_view_module": "@jupyter-widgets/base",
            "_view_module_version": "1.2.0",
            "_view_name": "LayoutView",
            "align_content": null,
            "align_items": null,
            "align_self": null,
            "border": null,
            "bottom": null,
            "display": null,
            "flex": null,
            "flex_flow": null,
            "grid_area": null,
            "grid_auto_columns": null,
            "grid_auto_flow": null,
            "grid_auto_rows": null,
            "grid_column": null,
            "grid_gap": null,
            "grid_row": null,
            "grid_template_areas": null,
            "grid_template_columns": null,
            "grid_template_rows": null,
            "height": null,
            "justify_content": null,
            "justify_items": null,
            "left": null,
            "margin": null,
            "max_height": null,
            "max_width": null,
            "min_height": null,
            "min_width": null,
            "object_fit": null,
            "object_position": null,
            "order": null,
            "overflow": null,
            "overflow_x": null,
            "overflow_y": null,
            "padding": null,
            "right": null,
            "top": null,
            "visibility": null,
            "width": null
          }
        },
        "261645fa39c1497293dc803e1387ba1b": {
          "model_module": "@jupyter-widgets/base",
          "model_name": "LayoutModel",
          "model_module_version": "1.2.0",
          "state": {
            "_model_module": "@jupyter-widgets/base",
            "_model_module_version": "1.2.0",
            "_model_name": "LayoutModel",
            "_view_count": null,
            "_view_module": "@jupyter-widgets/base",
            "_view_module_version": "1.2.0",
            "_view_name": "LayoutView",
            "align_content": null,
            "align_items": null,
            "align_self": null,
            "border": null,
            "bottom": null,
            "display": null,
            "flex": null,
            "flex_flow": null,
            "grid_area": null,
            "grid_auto_columns": null,
            "grid_auto_flow": null,
            "grid_auto_rows": null,
            "grid_column": null,
            "grid_gap": null,
            "grid_row": null,
            "grid_template_areas": null,
            "grid_template_columns": null,
            "grid_template_rows": null,
            "height": null,
            "justify_content": null,
            "justify_items": null,
            "left": null,
            "margin": null,
            "max_height": null,
            "max_width": null,
            "min_height": null,
            "min_width": null,
            "object_fit": null,
            "object_position": null,
            "order": null,
            "overflow": null,
            "overflow_x": null,
            "overflow_y": null,
            "padding": null,
            "right": null,
            "top": null,
            "visibility": null,
            "width": null
          }
        },
        "f451a73b16a4445a9cd8e9d08e24023e": {
          "model_module": "@jupyter-widgets/controls",
          "model_name": "SliderStyleModel",
          "model_module_version": "1.5.0",
          "state": {
            "_model_module": "@jupyter-widgets/controls",
            "_model_module_version": "1.5.0",
            "_model_name": "SliderStyleModel",
            "_view_count": null,
            "_view_module": "@jupyter-widgets/base",
            "_view_module_version": "1.2.0",
            "_view_name": "StyleView",
            "description_width": "",
            "handle_color": null
          }
        },
        "ac2987035de342c1a4d42b37833c3131": {
          "model_module": "@jupyter-widgets/base",
          "model_name": "LayoutModel",
          "model_module_version": "1.2.0",
          "state": {
            "_model_module": "@jupyter-widgets/base",
            "_model_module_version": "1.2.0",
            "_model_name": "LayoutModel",
            "_view_count": null,
            "_view_module": "@jupyter-widgets/base",
            "_view_module_version": "1.2.0",
            "_view_name": "LayoutView",
            "align_content": null,
            "align_items": null,
            "align_self": null,
            "border": null,
            "bottom": null,
            "display": null,
            "flex": null,
            "flex_flow": null,
            "grid_area": null,
            "grid_auto_columns": null,
            "grid_auto_flow": null,
            "grid_auto_rows": null,
            "grid_column": null,
            "grid_gap": null,
            "grid_row": null,
            "grid_template_areas": null,
            "grid_template_columns": null,
            "grid_template_rows": null,
            "height": null,
            "justify_content": null,
            "justify_items": null,
            "left": null,
            "margin": null,
            "max_height": null,
            "max_width": null,
            "min_height": null,
            "min_width": null,
            "object_fit": null,
            "object_position": null,
            "order": null,
            "overflow": null,
            "overflow_x": null,
            "overflow_y": null,
            "padding": null,
            "right": null,
            "top": null,
            "visibility": null,
            "width": null
          }
        }
      }
    },
    "accelerator": "GPU"
  },
  "cells": [
    {
      "cell_type": "markdown",
      "metadata": {
        "id": "view-in-github",
        "colab_type": "text"
      },
      "source": [
        "<a href=\"https://colab.research.google.com/github/pepogara/ENPH353_competition_nn/blob/main/ClueDetectNN.ipynb\" target=\"_parent\"><img src=\"https://colab.research.google.com/assets/colab-badge.svg\" alt=\"Open In Colab\"/></a>"
      ]
    },
    {
      "cell_type": "code",
      "execution_count": null,
      "metadata": {
        "id": "zY8X4_r6DJ8i"
      },
      "outputs": [],
      "source": [
        "import numpy as np\n",
        "import math\n",
        "import numpy as np\n",
        "import re\n",
        "import string\n",
        "import os\n",
        "\n",
        "from collections import Counter\n",
        "from matplotlib import pyplot as plt\n",
        "from PIL import Image\n",
        "import cv2\n",
        "from google.colab.patches import cv2_imshow"
      ]
    },
    {
      "cell_type": "code",
      "source": [
        "from google.colab import drive\n",
        "drive.mount('/content/drive')"
      ],
      "metadata": {
        "colab": {
          "base_uri": "https://localhost:8080/"
        },
        "id": "4tRnMOhFFA8g",
        "outputId": "b5759436-d70c-4b77-c68d-679b7dae6f25"
      },
      "execution_count": null,
      "outputs": [
        {
          "output_type": "stream",
          "name": "stdout",
          "text": [
            "Mounted at /content/drive\n"
          ]
        }
      ]
    },
    {
      "cell_type": "code",
      "source": [
        "# You will need to update this path to match the folder in your Google Drive\n",
        "PATH = \"PATH\"\n",
        "# labels_raw = !ls \"{PATH}\"\n",
        "# labels = labels_raw[0].split()\n",
        "\n",
        "image_files = [f for f in os.listdir(PATH) if f.endswith(\".png\")]\n",
        "print(\"Number of Images: \" + str(len(image_files)))\n"
      ],
      "metadata": {
        "id": "OaRdm8eNF7vk",
        "colab": {
          "base_uri": "https://localhost:8080/"
        },
        "outputId": "e08c060a-be57-4dfd-9d5d-b84763bfbe3a"
      },
      "execution_count": null,
      "outputs": [
        {
          "output_type": "stream",
          "name": "stdout",
          "text": [
            "Number of Images: 8\n"
          ]
        }
      ]
    },
    {
      "cell_type": "code",
      "source": [
        "\n",
        "### this was used to read the real comp images.\n",
        "print(image_files)\n",
        "\n",
        "for i, _ in enumerate(image_files):\n",
        "    img = cv2.imread(PATH + image_files[i])\n",
        "    image_files[i] = cv2.resize(img, (600,400))"
      ],
      "metadata": {
        "colab": {
          "base_uri": "https://localhost:8080/"
        },
        "id": "5LDj8eg1lVWf",
        "outputId": "8bf4131b-3fde-4de1-f30a-29d5efa058bf"
      },
      "execution_count": null,
      "outputs": [
        {
          "output_type": "stream",
          "name": "stdout",
          "text": [
            "['MANY.png', 'AUTUMN.png', 'PUSH.png', 'BUNNIES.png', 'FEW.png', 'SWEAR.png', 'DECELERATE.png', 'RABBITS.png']\n"
          ]
        }
      ]
    },
    {
      "cell_type": "code",
      "source": [
        "!pip freeze | grep tensorflow"
      ],
      "metadata": {
        "colab": {
          "base_uri": "https://localhost:8080/"
        },
        "id": "5pLf0M3_XYka",
        "outputId": "0c653c4b-17aa-4a0a-eb7c-43a9f624f155"
      },
      "execution_count": null,
      "outputs": [
        {
          "output_type": "stream",
          "name": "stdout",
          "text": [
            "tensorflow==2.9.3\n",
            "tensorflow-datasets==4.9.3\n",
            "tensorflow-estimator==2.9.0\n",
            "tensorflow-gcs-config==2.14.0\n",
            "tensorflow-hub==0.15.0\n",
            "tensorflow-io-gcs-filesystem==0.34.0\n",
            "tensorflow-metadata==1.14.0\n",
            "tensorflow-probability==0.22.0\n"
          ]
        }
      ]
    },
    {
      "cell_type": "code",
      "source": [
        "!pip install tensorflow==2.9.3\n",
        "!pip install keras==2.9.0"
      ],
      "metadata": {
        "id": "jTyFNVQWXh4O"
      },
      "execution_count": null,
      "outputs": []
    },
    {
      "cell_type": "markdown",
      "source": [
        "## Finding the right image widths for splitting"
      ],
      "metadata": {
        "id": "wVU1_-ItGYSz"
      }
    },
    {
      "cell_type": "code",
      "source": [
        "#figuring out the sizes for each split\n",
        "\n",
        "image_ranges = [(45,150),(150,255),(345,450),(450,555)]\n",
        "clue_y_range = (250,340)\n",
        "type_y_range = (30, 120)\n",
        "\n",
        "char_title_range = np.arange(6,10)\n",
        "\n",
        "img = image_files[3]\n",
        "cv2_imshow(image_files[1])\n",
        "\n",
        "print(img.shape)\n",
        "\n",
        "start_x = 30\n",
        "end_x = 75\n",
        "start_y = 250\n",
        "end_y = 340\n",
        "\n",
        "# Iterate to extract 12 characters\n",
        "for i in range(12):\n",
        "    # Define the region of interest for each character\n",
        "    char = img[start_y:end_y, start_x:end_x]\n",
        "\n",
        "    # Display or process the character here (e.g., save it, display it, etc.)\n",
        "    # For example, displaying the character:\n",
        "    cv2_imshow(char)\n",
        "\n",
        "    # Increment the x-coordinates for the next character\n",
        "    start_x += 45\n",
        "    end_x += 45\n"
      ],
      "metadata": {
        "id": "pE3L3ScqGZZ-",
        "colab": {
          "base_uri": "https://localhost:8080/",
          "height": 1000
        },
        "outputId": "2d0d290d-6465-46db-8d2b-90862f08ea19"
      },
      "execution_count": null,
      "outputs": [
        {
          "output_type": "display_data",
          "data": {
            "text/plain": [
              "<PIL.Image.Image image mode=RGB size=600x400>"
            ],
            "image/png": "[encoded data removed]"
          },
          "metadata": {}
        },
        {
          "output_type": "stream",
          "name": "stdout",
          "text": [
            "(400, 600, 3)\n"
          ]
        },
        {
          "output_type": "display_data",
          "data": {
            "text/plain": [
              "<PIL.Image.Image image mode=RGB size=45x90>"
            ],
            "image/png": "[encoded data removed]"
          },
          "metadata": {}
        },
        {
          "output_type": "display_data",
          "data": {
            "text/plain": [
              "<PIL.Image.Image image mode=RGB size=45x90>"
            ],
            "image/png": "[encoded data removed]"
          },
          "metadata": {}
        },
        {
          "output_type": "display_data",
          "data": {
            "text/plain": [
              "<PIL.Image.Image image mode=RGB size=45x90>"
            ],
            "image/png": "[encoded data removed]"
          },
          "metadata": {}
        },
        {
          "output_type": "display_data",
          "data": {
            "text/plain": [
              "<PIL.Image.Image image mode=RGB size=45x90>"
            ],
            "image/png": "[encoded data removed]"
          },
          "metadata": {}
        },
        {
          "output_type": "display_data",
          "data": {
            "text/plain": [
              "<PIL.Image.Image image mode=RGB size=45x90>"
            ],
            "image/png": "[encoded data removed]"
          },
          "metadata": {}
        },
        {
          "output_type": "display_data",
          "data": {
            "text/plain": [
              "<PIL.Image.Image image mode=RGB size=45x90>"
            ],
            "image/png": "[encoded data removed]"
          },
          "metadata": {}
        },
        {
          "output_type": "display_data",
          "data": {
            "text/plain": [
              "<PIL.Image.Image image mode=RGB size=45x90>"
            ],
            "image/png": "[encoded data removed]"
          },
          "metadata": {}
        },
        {
          "output_type": "display_data",
          "data": {
            "text/plain": [
              "<PIL.Image.Image image mode=RGB size=45x90>"
            ],
            "image/png": "[encoded data removed]"
          },
          "metadata": {}
        },
        {
          "output_type": "display_data",
          "data": {
            "text/plain": [
              "<PIL.Image.Image image mode=RGB size=45x90>"
            ],
            "image/png": "[encoded data removed]"
          },
          "metadata": {}
        },
        {
          "output_type": "display_data",
          "data": {
            "text/plain": [
              "<PIL.Image.Image image mode=RGB size=45x90>"
            ],
            "image/png": "[encoded data removed]"
          },
          "metadata": {}
        },
        {
          "output_type": "display_data",
          "data": {
            "text/plain": [
              "<PIL.Image.Image image mode=RGB size=45x90>"
            ],
            "image/png": "[encoded data removed]"
          },
          "metadata": {}
        },
        {
          "output_type": "display_data",
          "data": {
            "text/plain": [
              "<PIL.Image.Image image mode=RGB size=45x90>"
            ],
            "image/png": "[encoded data removed]"
          },
          "metadata": {}
        }
      ]
    },
    {
      "cell_type": "code",
      "source": [
        "def split_characters(image, num_chars):\n",
        "\n",
        "    clue_y_range = (250,340)\n",
        "    type_y_range = (30, 120)\n",
        "\n",
        "    start_x = 30\n",
        "    end_x = 75\n",
        "    start_y = 250\n",
        "    end_y = 340\n",
        "\n",
        "    size_img = cv2.resize(image, (600, 400))\n",
        "\n",
        "    characters = []\n",
        "\n",
        "    # Iterate to extract characters\n",
        "    for i in range(num_chars):\n",
        "        # Define the region of interest for each character\n",
        "        char = size_img[start_y:end_y, start_x:end_x]\n",
        "        characters.append(char)\n",
        "\n",
        "        # Increment the x-coordinates for the next character\n",
        "        start_x += 45\n",
        "        end_x += 45\n",
        "\n",
        "    return characters"
      ],
      "metadata": {
        "id": "P-11V9tkeuQh"
      },
      "execution_count": null,
      "outputs": []
    },
    {
      "cell_type": "code",
      "source": [
        "print(image_files)"
      ],
      "metadata": {
        "colab": {
          "base_uri": "https://localhost:8080/"
        },
        "id": "Vty3cQY2GaId",
        "outputId": "99c94511-1f3c-481b-8934-8d16a1a74ebb"
      },
      "execution_count": null,
      "outputs": [
        {
          "output_type": "stream",
          "name": "stdout",
          "text": [
            "['MANY.png', 'DECELERATE.png', 'BUNNIES.png', 'SWEAR.png', 'FEW.png', 'RABBITS.png', 'PUSH.png', 'AUTUMN.png']\n"
          ]
        }
      ]
    },
    {
      "cell_type": "code",
      "source": [
        "#split chars debugging\n",
        "\n",
        "img = cv2.imread(PATH + \"0_-9KD1RB6BBE_WEAPON_blurred2.png\")\n",
        "\n",
        "split_name = \"0_-9KD1RB6BBE_WEAPON_blurred2.png\".split('_')\n",
        "characters = split_name[1]\n",
        "digits = [char if char != '-' else ' ' for char in characters]\n",
        "\n",
        "print(digits)\n",
        "\n",
        "test = split_characters(img, len(digits))\n",
        "\n",
        "digit_images = []\n",
        "\n",
        "for char_image in test:\n",
        "        digit_images.append(char_image)\n",
        "\n",
        "cv2_imshow(digit_images[10])"
      ],
      "metadata": {
        "id": "3PnqzxqT__aa"
      },
      "execution_count": null,
      "outputs": []
    },
    {
      "cell_type": "markdown",
      "source": [
        "## Creating the Data\n",
        "\n",
        "- Splitting the images and creating onehot vectors"
      ],
      "metadata": {
        "id": "dm5lGotLGh7S"
      }
    },
    {
      "cell_type": "code",
      "source": [
        "\"\"\"!\n",
        "@brief Extract and process digit images from a list of image files.\n",
        "\n",
        "This code reads image files, splits them into digit images, and generates one-hot encoded vectors for the digits.\n",
        "\n",
        "@param image_files: List of image file names to process.\n",
        "@param image_ranges: List of tuples specifying the pixel ranges for digit extraction.\n",
        "@param char_title_range: Range of character positions in the file name to identify digits.\n",
        "@param PATH: Path to the directory containing the image files.\n",
        "\n",
        "@var digits: List of characters representing digits (0-9, A-Z).\n",
        "@var one_hot_vectors: List of one-hot encoded vectors for the extracted digits.\n",
        "@var digit_images: List of extracted digit images.\n",
        "\n",
        "The code reads each image file, extracts individual digit images based on specified pixel ranges,\n",
        "and determines the digits using character positions in the file name. It generates one-hot encoded vectors\n",
        "for each digit and collects both the digit images and one-hot vectors in separate lists.\n",
        "\n",
        "@var X_dataset: A copy of digit images.\n",
        "@var Y_dataset: A copy of one-hot encoded vectors.\n",
        "\n",
        "\"\"\"\n",
        "digits = list(string.digits)\n",
        "one_hot_vectors = []\n",
        "digit_images = []\n",
        "\n",
        "\n",
        "for image_file_name in image_files:\n",
        "    image = cv2.imread(PATH + image_file_name)\n",
        "\n",
        "    characters = image_file_name.replace(\".png\", \"\")\n",
        "\n",
        "    # split_name = image_file_name.split('_')\n",
        "    # characters = split_name[1]\n",
        "    digits = [char if char != '-' else ' ' for char in characters]\n",
        "\n",
        "    split_images = split_characters(image, len(digits))\n",
        "\n",
        "    for char_image in split_images:\n",
        "        digit_images.append(char_image)\n",
        "\n",
        "    one_hot_digit_vectors = []\n",
        "    for digit in digits:\n",
        "        one_hot_vector = np.zeros(37)  # Assuming 37 possible characters (0-9, A-Z, ' ')\n",
        "        if digit.isdigit():\n",
        "            index = int(digit)\n",
        "        elif digit == ' ':\n",
        "            index = 36\n",
        "        else:\n",
        "            index = ord(digit) - ord('A') + 10  # Map A-Z to 10-35\n",
        "        one_hot_vector[index] = 1\n",
        "        one_hot_vectors.append(one_hot_vector)\n",
        "\n",
        "X_dataset = np.copy(digit_images)\n",
        "Y_dataset = np.copy(one_hot_vectors)"
      ],
      "metadata": {
        "id": "T57ah0vyGid7"
      },
      "execution_count": null,
      "outputs": []
    },
    {
      "cell_type": "code",
      "source": [
        "cv2_imshow(X_dataset[0])\n",
        "\n",
        "\n",
        "# cv2_imshow(cv2.imread(PATH + image_files[0]))\n",
        "print(onehotToStr(Y_dataset[0]))\n",
        "# print(cv2.imread(PATH + image_files[0]).shape)"
      ],
      "metadata": {
        "colab": {
          "base_uri": "https://localhost:8080/",
          "height": 124
        },
        "id": "MsZ__EAREpdM",
        "outputId": "d7a9bb3e-835d-4023-b985-7fd90e548a92"
      },
      "execution_count": null,
      "outputs": [
        {
          "output_type": "display_data",
          "data": {
            "text/plain": [
              "<PIL.Image.Image image mode=RGB size=45x90>"
            ],
            "image/png": "[encoded data removed]"
          },
          "metadata": {}
        },
        {
          "output_type": "stream",
          "name": "stdout",
          "text": [
            "M\n"
          ]
        }
      ]
    },
    {
      "cell_type": "markdown",
      "source": [
        "## Displaying dataset contents\n",
        "\n",
        "We are evaluating whether our data pre-processing scheme (including the one-hot-encoding and the onehot to str function) is working appropriately."
      ],
      "metadata": {
        "id": "VN58p7nZna5l"
      }
    },
    {
      "cell_type": "code",
      "source": [
        "def onehotToStr(one_hot_vector):\n",
        "    \"\"\"!\n",
        "    @brief Convert a one-hot encoded vector to a string.\n",
        "\n",
        "    This function takes a one-hot encoded vector and converts it into a string\n",
        "    representation based on the characters defined in the \"characters\" string.\n",
        "\n",
        "    @param one_hot_vector: One-hot encoded vector to convert to a string.\n",
        "\n",
        "    @return: A string representation of the one-hot encoded vector.\n",
        "    \"\"\"\n",
        "    characters = \"0123456789ABCDEFGHIJKLMNOPQRSTUVWXYZ \"\n",
        "    decoded_strings = []\n",
        "\n",
        "    index = np.argmax(one_hot_vector)\n",
        "    character = characters[index]\n",
        "    decoded_strings.append(character)\n",
        "\n",
        "    # Join the characters to form the final string\n",
        "    return ''.join(decoded_strings)\n",
        "\n",
        "def onehotToIndex(one_hot_vector):\n",
        "    \"\"\"!\n",
        "    @brief Convert a one-hot encoded vector to its index.\n",
        "\n",
        "    This function takes a one-hot encoded vector and returns the index of\n",
        "    the maximum value in the vector, indicating which character is encoded.\n",
        "\n",
        "    @param one_hot_vector: One-hot encoded vector to convert to an index.\n",
        "\n",
        "    @return: The index of the maximum value in the one-hot vector.\n",
        "    \"\"\"\n",
        "    return np.argmax(one_hot_vector)"
      ],
      "metadata": {
        "id": "xWt1WGsFnVnM"
      },
      "execution_count": null,
      "outputs": []
    },
    {
      "cell_type": "code",
      "source": [
        "from ipywidgets import interact\n",
        "import ipywidgets as ipywidgets\n",
        "\n",
        "# Display images in the training data set.\n",
        "def displayImage(index):\n",
        "    \"\"\"!\n",
        "    @brief Interactive display of images from the training dataset.\n",
        "\n",
        "    This code uses the ipywidgets library to interactively\n",
        "    display images from a training dataset and their associated labels.\n",
        "\n",
        "    The provided function should be called within an IPython or Jupyter\n",
        "    Notebook environment.\n",
        "\n",
        "    @param index: Index of the image to display.\n",
        "\n",
        "    @return: Interactive image display with captions in an IPython or Jupyter Notebook environment.\n",
        "    \"\"\"\n",
        "\n",
        "    plt.imshow(digit_images[index])\n",
        "    caption = (\"y = \" + onehotToStr(one_hot_vectors[index]))\n",
        "    plt.text(0.5, 0.5, caption,\n",
        "            color='orange', fontsize = 20,\n",
        "            horizontalalignment='left', verticalalignment='top')\n",
        "\n",
        "\n",
        "interact(displayImage,\n",
        "         index=ipywidgets.IntSlider(min=0, max=len(digit_images),\n",
        "                                    step=1, value=10))"
      ],
      "metadata": {
        "id": "UuC5_ts8ng7v"
      },
      "execution_count": null,
      "outputs": []
    },
    {
      "cell_type": "markdown",
      "source": [
        "## Setting training and validation data sets"
      ],
      "metadata": {
        "id": "aqV_vFzjEluB"
      }
    },
    {
      "cell_type": "code",
      "source": [
        "\"\"\"!\n",
        "@brief Split the dataset into training and validation sets.\n",
        "\n",
        "This code splits the dataset into training and validation sets based on a\n",
        "specified validation split ratio. It does not define a separate test set in this case.\n",
        "\n",
        "The training set, 'X_train_dataset' and 'Y_train_dataset,' contains a\n",
        "portion of the data for model training, while the validation set,\n",
        "'X_val_dataset' and 'Y_val_dataset,' is used for model evaluation.\n",
        "\n",
        "The code also prints information about the dataset shapes and the number of examples in each set.\n",
        "\n",
        "@return: Training and validation sets are created for model training and evaluation.\n",
        "\"\"\"\n",
        "\n",
        "VALIDATION_SPLIT = 0.2\n",
        "\n",
        "split_index = math.ceil(X_dataset.shape[0] * (1-VALIDATION_SPLIT))\n",
        "\n",
        "X_train_dataset = X_dataset[:split_index]\n",
        "Y_train_dataset = Y_dataset[:split_index]\n",
        "\n",
        "X_val_dataset = X_dataset[split_index:]\n",
        "Y_val_dataset = Y_dataset[split_index:]\n",
        "\n",
        "# In this case we do not define a test set.\n",
        "\n",
        "print(\"X shape: \" + str(X_dataset.shape))\n",
        "print(\"Y shape: \" + str(Y_dataset.shape))\n",
        "print(\"Total examples: {:d}\\nTraining examples: {:d}\\n\"\n",
        "      \"Validation examples: {:d}\".\n",
        "      format(X_dataset.shape[0],\n",
        "             X_train_dataset.shape[0],\n",
        "             X_val_dataset.shape[0]))"
      ],
      "metadata": {
        "colab": {
          "base_uri": "https://localhost:8080/"
        },
        "id": "PgmhAoEoEfdx",
        "outputId": "8c8366cf-15f9-47a8-c1e8-a893a0287bac"
      },
      "execution_count": null,
      "outputs": [
        {
          "output_type": "stream",
          "name": "stdout",
          "text": [
            "X shape: (46, 90, 45, 3)\n",
            "Y shape: (46, 37)\n",
            "Total examples: 46\n",
            "Training examples: 37\n",
            "Validation examples: 9\n"
          ]
        }
      ]
    },
    {
      "cell_type": "markdown",
      "source": [
        "## Train CNN"
      ],
      "metadata": {
        "id": "-mGf0cpWNcal"
      }
    },
    {
      "cell_type": "code",
      "source": [
        "from tensorflow.keras import layers\n",
        "from tensorflow.keras import models\n",
        "from tensorflow.keras import optimizers\n",
        "\n",
        "from tensorflow.keras.utils import plot_model\n",
        "from tensorflow.keras import backend\n",
        "from tensorflow import keras as ks"
      ],
      "metadata": {
        "id": "kWYfGFDINdVZ"
      },
      "execution_count": null,
      "outputs": []
    },
    {
      "cell_type": "markdown",
      "source": [
        "### Define the model"
      ],
      "metadata": {
        "id": "7vT-rh91Nr9S"
      }
    },
    {
      "cell_type": "code",
      "source": [
        "\"\"\"!\n",
        "@brief Define a Convolutional Neural Network (CNN) model for character recognition.\n",
        "\n",
        "This code defines a CNN model for character recognition. The model is designed\n",
        "to classify characters into one of 36 possible classes, representing the\n",
        "characters '0' to '9' and 'A' to 'Z'.\n",
        "\n",
        "The model architecture consists of convolutional layers followed by\n",
        "max-pooling layers for feature extraction and reduction. It includes fully\n",
        "connected layers for classification, and the output layer uses softmax\n",
        "activation for multiclass classification.\n",
        "\n",
        "Convolutional Layers:\n",
        "- First Conv2D layer with 32 filters, a 3x3 kernel, and ReLU activation.\n",
        "- First MaxPooling2D layer with 2x2 pool size.\n",
        "- Second Conv2D layer with 64 filters, a 3x3 kernel, and ReLU activation.\n",
        "- Second MaxPooling2D layer with 2x2 pool size.\n",
        "- Third Conv2D layer with 128 filters, a 3x3 kernel, and ReLU activation.\n",
        "- Third MaxPooling2D layer with 2x2 pool size.\n",
        "- Fourth Conv2D layer with 128 filters, a 3x3 kernel, and ReLU activation.\n",
        "- Fourth MaxPooling2D layer with 2x2 pool size.\n",
        "\n",
        "Fully Connected Layers:\n",
        "- Flatten layer to transform the 2D feature maps into a 1D vector.\n",
        "- Dropout layer with a dropout rate of 0.5 to prevent overfitting.\n",
        "- Dense layer with 512 units and ReLU activation.\n",
        "\n",
        "Output Layer:\n",
        "- Dense layer with 'num_classes' units and softmax activation for multiclass classification.\n",
        "\n",
        "@var LEARNING_RATE: The learning rate for the optimizer when compiling the model.\n",
        "@note The model should be compiled with appropriate loss, optimizer, and metrics before training.\n",
        "\n",
        "@return: A Keras model for character recognition with the specified architecture.\n",
        "\"\"\"\n",
        "\n",
        "# Define the number of possible outcomes\n",
        "num_classes = 37  # A-Z and 0-9 and ' '\n",
        "\n",
        "# Define your model\n",
        "conv_model = models.Sequential()\n",
        "\n",
        "# Add Convolutional and Pooling Layers\n",
        "conv_model.add(layers.Conv2D(32, (3, 3), activation='relu', input_shape=(90, 45, 3)))\n",
        "conv_model.add(layers.MaxPooling2D((2, 2)))\n",
        "conv_model.add(layers.Conv2D(64, (3, 3), activation='relu'))\n",
        "conv_model.add(layers.MaxPooling2D((2, 2)))\n",
        "conv_model.add(layers.Conv2D(128, (3, 3), activation='relu'))\n",
        "conv_model.add(layers.MaxPooling2D((2, 2)))\n",
        "conv_model.add(layers.Conv2D(128, (3, 3), activation='relu'))\n",
        "# conv_model.add(layers.MaxPooling2D((2, 2)))\n",
        "\n",
        "# Flatten and add Fully Connected Layers\n",
        "conv_model.add(layers.Flatten())\n",
        "conv_model.add(layers.Dropout(0.5))\n",
        "conv_model.add(layers.Dense(512, activation='relu'))\n",
        "\n",
        "# Output Layer for 36 classes with softmax activation\n",
        "conv_model.add(layers.Dense(num_classes, activation = 'softmax'))\n",
        "\n",
        "LEARNING_RATE = 1e-4\n",
        "conv_model.compile(loss='categorical_crossentropy',\n",
        "                   optimizer=optimizers.RMSprop(lr=LEARNING_RATE),\n",
        "                   metrics=['acc'])"
      ],
      "metadata": {
        "colab": {
          "base_uri": "https://localhost:8080/"
        },
        "id": "48eSJnUUNhhC",
        "outputId": "bab8a07d-5aaf-4501-bc32-b82947d3ad98"
      },
      "execution_count": null,
      "outputs": [
        {
          "output_type": "stream",
          "name": "stderr",
          "text": [
            "/usr/local/lib/python3.10/dist-packages/keras/optimizers/optimizer_v2/rmsprop.py:135: UserWarning: The `lr` argument is deprecated, use `learning_rate` instead.\n",
            "  super(RMSprop, self).__init__(name, **kwargs)\n"
          ]
        }
      ]
    },
    {
      "cell_type": "code",
      "source": [
        "conv_model.summary()"
      ],
      "metadata": {
        "colab": {
          "base_uri": "https://localhost:8080/"
        },
        "id": "Vn4v0oYzNwqu",
        "outputId": "cdacdeae-184e-47ac-fa25-544a91010730"
      },
      "execution_count": null,
      "outputs": [
        {
          "output_type": "stream",
          "name": "stdout",
          "text": [
            "Model: \"sequential\"\n",
            "_________________________________________________________________\n",
            " Layer (type)                Output Shape              Param #   \n",
            "=================================================================\n",
            " conv2d (Conv2D)             (None, 88, 43, 32)        896       \n",
            "                                                                 \n",
            " max_pooling2d (MaxPooling2D  (None, 44, 21, 32)       0         \n",
            " )                                                               \n",
            "                                                                 \n",
            " conv2d_1 (Conv2D)           (None, 42, 19, 64)        18496     \n",
            "                                                                 \n",
            " max_pooling2d_1 (MaxPooling  (None, 21, 9, 64)        0         \n",
            " 2D)                                                             \n",
            "                                                                 \n",
            " conv2d_2 (Conv2D)           (None, 19, 7, 128)        73856     \n",
            "                                                                 \n",
            " max_pooling2d_2 (MaxPooling  (None, 9, 3, 128)        0         \n",
            " 2D)                                                             \n",
            "                                                                 \n",
            " conv2d_3 (Conv2D)           (None, 7, 1, 128)         147584    \n",
            "                                                                 \n",
            " flatten (Flatten)           (None, 896)               0         \n",
            "                                                                 \n",
            " dropout (Dropout)           (None, 896)               0         \n",
            "                                                                 \n",
            " dense (Dense)               (None, 512)               459264    \n",
            "                                                                 \n",
            " dense_1 (Dense)             (None, 37)                18981     \n",
            "                                                                 \n",
            "=================================================================\n",
            "Total params: 719,077\n",
            "Trainable params: 719,077\n",
            "Non-trainable params: 0\n",
            "_________________________________________________________________\n"
          ]
        }
      ]
    },
    {
      "cell_type": "code",
      "source": [
        "def reset_weights(model):\n",
        "    \"\"\"!\n",
        "    @brief Reset weights of a Keras model to their initial values.\n",
        "\n",
        "    This function resets the weights of a Keras model to their\n",
        "    initial values based on the initializers defined for each layer.\n",
        "\n",
        "    @param model: A Keras model for which the weights need to be reset.\n",
        "\n",
        "    The function iterates through the layers of the provided Keras model and\n",
        "    checks if they have kernel and bias initializers. If so, it retrieves\n",
        "    the initializers and the old weights and biases for each layer. It then sets\n",
        "    the layer's weights to new values generated by the initializers with the same\n",
        "    shapes as the old weights and biases.\n",
        "\n",
        "    @note The model should be compiled before using this function.\n",
        "\n",
        "    @return: The Keras model with its weights reset to their initial values.\n",
        "    \"\"\"\n",
        "    for ix, layer in enumerate(model.layers):\n",
        "        if (hasattr(model.layers[ix], 'kernel_initializer') and\n",
        "            hasattr(model.layers[ix], 'bias_initializer')):\n",
        "            weight_initializer = model.layers[ix].kernel_initializer\n",
        "            bias_initializer = model.layers[ix].bias_initializer\n",
        "\n",
        "            old_weights, old_biases = model.layers[ix].get_weights()\n",
        "\n",
        "            model.layers[ix].set_weights([\n",
        "                weight_initializer(shape=old_weights.shape),\n",
        "                bias_initializer(shape=len(old_biases))])"
      ],
      "metadata": {
        "id": "elxAGT1NN331"
      },
      "execution_count": null,
      "outputs": []
    },
    {
      "cell_type": "code",
      "source": [
        "conv_model = ks.models.load_model(\"/content/drive/MyDrive/UBC/ENPH/ENPH 353/Competition NN/signNN_4.h5\")"
      ],
      "metadata": {
        "id": "B4lSZsnYBKRB"
      },
      "execution_count": null,
      "outputs": []
    },
    {
      "cell_type": "code",
      "source": [
        "\"\"\"!\n",
        "@brief Reset model weights and train the convolutional neural network.\n",
        "\n",
        "This code resets the weights of the 'conv_model' and then trains it using the\n",
        "dataset. The training process is run for a specified number of epochs with a\n",
        "specified batch size, and a portion of the dataset is designated for validation\n",
        "using the 'VALIDATION_SPLIT' ratio.\n",
        "\n",
        "This code helps reinitialize the model and then proceeds to train it.\n",
        "\n",
        "@return: Model weights are reset, and training history is stored in 'history_conv.'\n",
        "\"\"\"\n",
        "\n",
        "# reset_weights(conv_model)\n",
        "# We can also run the training by specifiying the validation split directly.\n",
        "history_conv = conv_model.fit(X_dataset, Y_dataset,\n",
        "                              validation_split=VALIDATION_SPLIT,\n",
        "                              epochs=16,\n",
        "                              batch_size=16)"
      ],
      "metadata": {
        "colab": {
          "base_uri": "https://localhost:8080/"
        },
        "id": "T3jxPvzXNys1",
        "outputId": "40fa0786-2e22-4ac9-ef10-8fbfde6e3e86"
      },
      "execution_count": null,
      "outputs": [
        {
          "output_type": "stream",
          "name": "stdout",
          "text": [
            "Epoch 1/16\n",
            "3/3 [==============================] - 3s 338ms/step - loss: 0.5176 - acc: 0.9444 - val_loss: 0.0000e+00 - val_acc: 1.0000\n",
            "Epoch 2/16\n",
            "3/3 [==============================] - 0s 17ms/step - loss: 4.9670e-08 - acc: 1.0000 - val_loss: 0.0000e+00 - val_acc: 1.0000\n",
            "Epoch 3/16\n",
            "3/3 [==============================] - 0s 16ms/step - loss: 0.0000e+00 - acc: 1.0000 - val_loss: 0.0000e+00 - val_acc: 1.0000\n",
            "Epoch 4/16\n",
            "3/3 [==============================] - 0s 18ms/step - loss: 0.1230 - acc: 0.9722 - val_loss: 0.0000e+00 - val_acc: 1.0000\n",
            "Epoch 5/16\n",
            "3/3 [==============================] - 0s 16ms/step - loss: 0.0000e+00 - acc: 1.0000 - val_loss: 0.0000e+00 - val_acc: 1.0000\n",
            "Epoch 6/16\n",
            "3/3 [==============================] - 0s 17ms/step - loss: 0.4429 - acc: 0.9722 - val_loss: 0.0000e+00 - val_acc: 1.0000\n",
            "Epoch 7/16\n",
            "3/3 [==============================] - 0s 29ms/step - loss: 7.6085e-06 - acc: 1.0000 - val_loss: 0.0000e+00 - val_acc: 1.0000\n",
            "Epoch 8/16\n",
            "3/3 [==============================] - 0s 18ms/step - loss: 2.9802e-08 - acc: 1.0000 - val_loss: 0.0000e+00 - val_acc: 1.0000\n",
            "Epoch 9/16\n",
            "3/3 [==============================] - 0s 18ms/step - loss: 0.0000e+00 - acc: 1.0000 - val_loss: 0.0000e+00 - val_acc: 1.0000\n",
            "Epoch 10/16\n",
            "3/3 [==============================] - 0s 17ms/step - loss: 0.2538 - acc: 0.9722 - val_loss: 0.0000e+00 - val_acc: 1.0000\n",
            "Epoch 11/16\n",
            "3/3 [==============================] - 0s 17ms/step - loss: 0.0000e+00 - acc: 1.0000 - val_loss: 0.0000e+00 - val_acc: 1.0000\n",
            "Epoch 12/16\n",
            "3/3 [==============================] - 0s 18ms/step - loss: 0.0000e+00 - acc: 1.0000 - val_loss: 0.0000e+00 - val_acc: 1.0000\n",
            "Epoch 13/16\n",
            "3/3 [==============================] - 0s 17ms/step - loss: 0.0000e+00 - acc: 1.0000 - val_loss: 0.0000e+00 - val_acc: 1.0000\n",
            "Epoch 14/16\n",
            "3/3 [==============================] - 0s 22ms/step - loss: 0.0000e+00 - acc: 1.0000 - val_loss: 0.0000e+00 - val_acc: 1.0000\n",
            "Epoch 15/16\n",
            "3/3 [==============================] - 0s 17ms/step - loss: 0.0000e+00 - acc: 1.0000 - val_loss: 0.0000e+00 - val_acc: 1.0000\n",
            "Epoch 16/16\n",
            "3/3 [==============================] - 0s 18ms/step - loss: 1.0859e-05 - acc: 1.0000 - val_loss: 0.0000e+00 - val_acc: 1.0000\n"
          ]
        }
      ]
    },
    {
      "cell_type": "markdown",
      "source": [
        "## Test Model"
      ],
      "metadata": {
        "id": "7seKz1jSPSJK"
      }
    },
    {
      "cell_type": "code",
      "source": [
        "from IPython.display import display, clear_output\n",
        "\n",
        "# Display images in the training data set.\n",
        "def displayImage(index):\n",
        "    \"\"\"!\n",
        "    @brief Interactive display of images and their predictions from the training dataset.\n",
        "\n",
        "    This code utilizes IPython to interactively display images from a\n",
        "    training dataset and provides predictions for those images using a\n",
        "    pre-trained convolutional neural network (CNN) model.\n",
        "\n",
        "    @param index: Index of the image to display and predict.\n",
        "\n",
        "    This code creates an interactive interface for exploring the training\n",
        "    dataset and visualizing model predictions.\n",
        "\n",
        "    @return: Interactive image display with ground truth and predicted\n",
        "    labels in an IPython environment.\n",
        "    \"\"\"\n",
        "    clear_output(wait=True)\n",
        "\n",
        "    img = X_dataset[index]\n",
        "\n",
        "    img_aug = np.expand_dims(img, axis=0)\n",
        "    y_predict = conv_model.predict(img_aug)[0]\n",
        "\n",
        "    fig, ax = plt.subplots()\n",
        "    ax.imshow(img)\n",
        "    caption = (\"Truth: \" + onehotToStr(Y_dataset[index]) +\n",
        "               \"\\nPredicted: \" + onehotToStr(y_predict))\n",
        "    ax.text(0.5, 0.5, caption,\n",
        "            color='orange', fontsize = 16,\n",
        "            horizontalalignment='left', verticalalignment='bottom')\n",
        "\n",
        "    plt.show()\n",
        "\n",
        "\n",
        "interact(displayImage,\n",
        "        index=ipywidgets.IntSlider(min=0, max=len(X_dataset),\n",
        "                                   step=1, value=10))"
      ],
      "metadata": {
        "colab": {
          "base_uri": "https://localhost:8080/",
          "height": 553,
          "referenced_widgets": [
            "19df96bf6dc34cf39224d69ed7ede00a",
            "bb6d7650d5f54473b065edf7ca09cb00",
            "1a3a948c19c7468fb58dcc8eae99f78d",
            "527d506204964fe988dc089d1c2e35fc",
            "261645fa39c1497293dc803e1387ba1b",
            "f451a73b16a4445a9cd8e9d08e24023e",
            "ac2987035de342c1a4d42b37833c3131"
          ]
        },
        "id": "iUyJ_MTWPL_S",
        "outputId": "0b1b550e-ae9a-47f9-82e5-3444d706f1ef"
      },
      "execution_count": null,
      "outputs": [
        {
          "output_type": "display_data",
          "data": {
            "text/plain": [
              "interactive(children=(IntSlider(value=10, description='index', max=12536), Output()), _dom_classes=('widget-in…"
            ],
            "application/vnd.jupyter.widget-view+json": {
              "version_major": 2,
              "version_minor": 0,
              "model_id": "19df96bf6dc34cf39224d69ed7ede00a"
            }
          },
          "metadata": {}
        },
        {
          "output_type": "execute_result",
          "data": {
            "text/plain": [
              "<function __main__.displayImage(index)>"
            ]
          },
          "metadata": {},
          "execution_count": 20
        }
      ]
    },
    {
      "cell_type": "markdown",
      "source": [
        "## SAVE THE MODEL"
      ],
      "metadata": {
        "id": "K049mTH6PrL8"
      }
    },
    {
      "cell_type": "code",
      "source": [
        "conv_model.save(\"/content/drive/MyDrive/UBC/ENPH/ENPH 353/Competition NN/signNN_4.h5\")"
      ],
      "metadata": {
        "id": "7LMnYI1FPupW"
      },
      "execution_count": null,
      "outputs": []
    },
    {
      "cell_type": "markdown",
      "source": [
        "## Testing the model with data"
      ],
      "metadata": {
        "id": "p_yJjEfOoVuE"
      }
    },
    {
      "cell_type": "code",
      "source": [
        "conv_model_test = ks.models.load_model(\"/content/drive/MyDrive/UBC/ENPH/ENPH 353/Competition NN/signNN_4.h5\")\n"
      ],
      "metadata": {
        "id": "L_Iv3UOroZXd"
      },
      "execution_count": null,
      "outputs": []
    },
    {
      "cell_type": "code",
      "source": [
        "test_img = cv2.imread(\"/content/drive/MyDrive/UBC/ENPH/ENPH 353/Competition NN/Sign Pictures/real_images/bright_hint.jpg\")\n",
        "print(\"current image size: \" + str(test_img.shape))\n",
        "\n",
        "resized_image = cv2.resize(test_img, (600, 400))\n",
        "\n",
        "# cv2_imshow(resized_image)\n",
        "# resized_image.shape\n",
        "\n",
        "characters = split_characters(resized_image, 12)\n",
        "\n",
        "cv2_imshow(resized_image)\n",
        "\n",
        "\n",
        "for i in range(12):\n",
        "    img = characters[i]\n",
        "\n",
        "    img_aug = np.expand_dims(img, axis=0)\n",
        "    y_predict = conv_model_test.predict(img_aug)[0]\n",
        "\n",
        "    fig, ax = plt.subplots()\n",
        "    ax.imshow(img)\n",
        "    caption = (\"Predicted: \" + onehotToStr(y_predict))\n",
        "    print(y_predict)\n",
        "    ax.text(0.5, 0.5, caption,\n",
        "            color='orange', fontsize = 16,\n",
        "            horizontalalignment='left', verticalalignment='bottom')\n",
        "\n",
        "    plt.show()\n"
      ],
      "metadata": {
        "id": "9YgHbhNVpBwn"
      },
      "execution_count": null,
      "outputs": []
    },
    {
      "cell_type": "code",
      "source": [
        "plt.plot(history_conv.history['acc'])\n",
        "plt.plot(history_conv.history['val_acc'])\n",
        "plt.title('model accuracy')\n",
        "plt.ylabel('accuracy (%)')\n",
        "plt.xlabel('epoch')\n",
        "plt.legend(['train accuracy', 'val accuracy'], loc='upper left')\n",
        "plt.show()"
      ],
      "metadata": {
        "colab": {
          "base_uri": "https://localhost:8080/",
          "height": 469
        },
        "id": "1ELeyB2bZXk5",
        "outputId": "0cd8bcc7-8f62-4c21-db00-4b9676ad00d8"
      },
      "execution_count": null,
      "outputs": [
        {
          "output_type": "display_data",
          "data": {
            "text/plain": [
              "<Figure size 640x480 with 1 Axes>"
            ],
            "image/png": "[encoded data removed]"
          },
          "metadata": {}
        }
      ]
    },
    {
      "cell_type": "code",
      "source": [
        "from sklearn.metrics import confusion_matrix\n",
        "import seaborn as sns\n",
        "import pandas as pd\n",
        "\n",
        "y_pred_probabilities = conv_model_test.predict(X_dataset)\n",
        "y_pred = [onehotToIndex(y_pred_probabilities[i]) for i in range(len(y_pred_probabilities))]\n",
        "y_true = [onehotToIndex(Y_dataset[i]) for i in range(len(Y_dataset))]\n",
        "\n",
        "confusion_mat = confusion_matrix(y_true, y_pred)\n",
        "cm_data = pd.DataFrame(confusion_mat, index = [i for i in \"0123456789ABCDEFGHIJKLMNOPQRSTUVWXYZ \"],\n",
        "                                columns = [i for i in \"0123456789ABCDEFGHIJKLMNOPQRSTUVWXYZ \"])"
      ],
      "metadata": {
        "colab": {
          "base_uri": "https://localhost:8080/"
        },
        "id": "kQJTO7ONZZA4",
        "outputId": "920e3818-1597-4b4e-ced1-29d506c2a223"
      },
      "execution_count": null,
      "outputs": [
        {
          "output_type": "stream",
          "name": "stdout",
          "text": [
            "639/639 [==============================] - 3s 3ms/step\n"
          ]
        }
      ]
    },
    {
      "cell_type": "code",
      "source": [
        "plt.figure(figsize=(10, 7))\n",
        "\n",
        "sns.set(font_scale=.8)\n",
        "sns.heatmap(cm_data, annot=False, fmt='.2f', cmap='Blues')\n",
        "plt.xlabel('Predicted')\n",
        "plt.ylabel('Actual')\n",
        "plt.title('Confusion Matrix')\n",
        "plt.show()"
      ],
      "metadata": {
        "colab": {
          "base_uri": "https://localhost:8080/",
          "height": 639
        },
        "id": "SCbM0owJZfGt",
        "outputId": "8b9568be-3a94-438e-c7df-cf47a0a7b801"
      },
      "execution_count": null,
      "outputs": [
        {
          "output_type": "display_data",
          "data": {
            "text/plain": [
              "<Figure size 1000x700 with 2 Axes>"
            ],
            "image/png": "[encoded data removed]"
          },
          "metadata": {}
        }
      ]
    }
  ]
}